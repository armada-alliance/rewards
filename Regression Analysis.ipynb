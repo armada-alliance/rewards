{
 "cells": [
  {
   "cell_type": "markdown",
   "metadata": {},
   "source": []
  },
  {
   "cell_type": "markdown",
   "metadata": {},
   "source": [
    "# Cardano Stake Pool Performance Analysis 🏴‍☠️\n",
    "\n",
    "## Overview\n",
    "\n",
    "- We will be using various data science approaches to get a better understanding of Cardano stake pool performance using Python. We will use various linear regression models and statistical inference approaches to see what differences are there between performance of all pools, small vs. large, and what are the most important factors in predicting a stake pool's performance. This data science notebook will not go into the \"rewards formula\" of Cardano that many of us are familiar with, we will just be doing a basic analysis and explore the data we have available to us. \n"
   ]
  },
  {
   "cell_type": "code",
   "execution_count": 1,
   "metadata": {},
   "outputs": [],
   "source": [
    "#Importing packages\n",
    "import os\n",
    "import math as m\n",
    "import pandas as pd\n",
    "import matplotlib.pyplot as plt\n",
    "import numpy as np\n",
    "import seaborn as sns\n",
    "from sklearn.preprocessing import StandardScaler\n",
    "from sklearn.preprocessing import MinMaxScaler\n",
    "from sklearn.cluster import KMeans\n",
    "from sklearn.model_selection import train_test_split \n",
    "from sklearn.linear_model import LinearRegression\n",
    "from sklearn import metrics\n",
    "\n",
    "pd.options.mode.chained_assignment = None  # default='warn'\n",
    "\n",
    "\n",
    "# pd.set_option('display.max_columns', None)\n",
    "# pd.set_option('display.width', None)\n",
    "pd.set_option('display.max_rows', 100)"
   ]
  },
  {
   "cell_type": "code",
   "execution_count": 2,
   "metadata": {},
   "outputs": [],
   "source": [
    "pool_history_df = pd.read_csv('dataset.csv')"
   ]
  },
  {
   "cell_type": "code",
   "execution_count": 3,
   "metadata": {},
   "outputs": [
    {
     "data": {
      "text/plain": [
       "18758"
      ]
     },
     "execution_count": 3,
     "metadata": {},
     "output_type": "execute_result"
    }
   ],
   "source": [
    "pool_history_df.shape[0]"
   ]
  },
  {
   "cell_type": "code",
   "execution_count": 4,
   "metadata": {},
   "outputs": [
    {
     "data": {
      "text/html": [
       "<div>\n",
       "<style scoped>\n",
       "    .dataframe tbody tr th:only-of-type {\n",
       "        vertical-align: middle;\n",
       "    }\n",
       "\n",
       "    .dataframe tbody tr th {\n",
       "        vertical-align: top;\n",
       "    }\n",
       "\n",
       "    .dataframe thead th {\n",
       "        text-align: right;\n",
       "    }\n",
       "</style>\n",
       "<table border=\"1\" class=\"dataframe\">\n",
       "  <thead>\n",
       "    <tr style=\"text-align: right;\">\n",
       "      <th></th>\n",
       "      <th>pool_id</th>\n",
       "      <th>pool_addr</th>\n",
       "      <th>epoch</th>\n",
       "      <th>roa</th>\n",
       "      <th>active_stake</th>\n",
       "    </tr>\n",
       "  </thead>\n",
       "  <tbody>\n",
       "    <tr>\n",
       "      <td>0</td>\n",
       "      <td>c1ede3cc9133209466774d4826044e408db13d6fe6df75...</td>\n",
       "      <td>pool1c8k78ny3xvsfgenhf4yzvpzwgzxmz0t0um0h2xnn2...</td>\n",
       "      <td>266</td>\n",
       "      <td>10.249</td>\n",
       "      <td>527631485613</td>\n",
       "    </tr>\n",
       "    <tr>\n",
       "      <td>1</td>\n",
       "      <td>c1ede3cc9133209466774d4826044e408db13d6fe6df75...</td>\n",
       "      <td>pool1c8k78ny3xvsfgenhf4yzvpzwgzxmz0t0um0h2xnn2...</td>\n",
       "      <td>267</td>\n",
       "      <td>10.142</td>\n",
       "      <td>527631485613</td>\n",
       "    </tr>\n",
       "    <tr>\n",
       "      <td>2</td>\n",
       "      <td>c1ede3cc9133209466774d4826044e408db13d6fe6df75...</td>\n",
       "      <td>pool1c8k78ny3xvsfgenhf4yzvpzwgzxmz0t0um0h2xnn2...</td>\n",
       "      <td>268</td>\n",
       "      <td>0.000</td>\n",
       "      <td>527589680120</td>\n",
       "    </tr>\n",
       "    <tr>\n",
       "      <td>3</td>\n",
       "      <td>c1ede3cc9133209466774d4826044e408db13d6fe6df75...</td>\n",
       "      <td>pool1c8k78ny3xvsfgenhf4yzvpzwgzxmz0t0um0h2xnn2...</td>\n",
       "      <td>269</td>\n",
       "      <td>10.017</td>\n",
       "      <td>528340712813</td>\n",
       "    </tr>\n",
       "    <tr>\n",
       "      <td>4</td>\n",
       "      <td>c1ede3cc9133209466774d4826044e408db13d6fe6df75...</td>\n",
       "      <td>pool1c8k78ny3xvsfgenhf4yzvpzwgzxmz0t0um0h2xnn2...</td>\n",
       "      <td>270</td>\n",
       "      <td>10.022</td>\n",
       "      <td>529124734881</td>\n",
       "    </tr>\n",
       "    <tr>\n",
       "      <td>...</td>\n",
       "      <td>...</td>\n",
       "      <td>...</td>\n",
       "      <td>...</td>\n",
       "      <td>...</td>\n",
       "      <td>...</td>\n",
       "    </tr>\n",
       "    <tr>\n",
       "      <td>18753</td>\n",
       "      <td>7d788a436d0f89669c12c32c563a5b3925f6bbed26f005...</td>\n",
       "      <td>pool104ug5smdp7ykd8qjcvk9vwjm8yjldwldymcq2zlue...</td>\n",
       "      <td>273</td>\n",
       "      <td>0.000</td>\n",
       "      <td>1031218746</td>\n",
       "    </tr>\n",
       "    <tr>\n",
       "      <td>18754</td>\n",
       "      <td>fd17a8a715c510d8d378f1272f052c0c9d7991e90e985d...</td>\n",
       "      <td>pool1l5t63fc4c5gd35mc7ynj7pfvpjwhny0fp6v96jawp...</td>\n",
       "      <td>273</td>\n",
       "      <td>0.000</td>\n",
       "      <td>3622050</td>\n",
       "    </tr>\n",
       "    <tr>\n",
       "      <td>18755</td>\n",
       "      <td>3e71cb8fd420f425973e7fa17b4a8e2875aac0809d9674...</td>\n",
       "      <td>pool18ecuhr75yr6zt9e707shkj5w9p664syqnkt8gmmlk...</td>\n",
       "      <td>273</td>\n",
       "      <td>0.000</td>\n",
       "      <td>57618046</td>\n",
       "    </tr>\n",
       "    <tr>\n",
       "      <td>18756</td>\n",
       "      <td>cb7710f54debda254005da120424f31a9725cc3fbcd966...</td>\n",
       "      <td>pool1edm3pa2da0dz2sq9mgfqgf8nr2tjtnplhnvkdwuwd...</td>\n",
       "      <td>273</td>\n",
       "      <td>0.000</td>\n",
       "      <td>137261172</td>\n",
       "    </tr>\n",
       "    <tr>\n",
       "      <td>18757</td>\n",
       "      <td>bd2d973b97a4afac701454ddca3bc83d4e704027977ddb...</td>\n",
       "      <td>pool1h5kewwuh5jh6cuq52nwu5w7g8488qsp8ja7ahs8p2...</td>\n",
       "      <td>273</td>\n",
       "      <td>0.000</td>\n",
       "      <td>8247425397</td>\n",
       "    </tr>\n",
       "  </tbody>\n",
       "</table>\n",
       "<p>18758 rows × 5 columns</p>\n",
       "</div>"
      ],
      "text/plain": [
       "                                                 pool_id  \\\n",
       "0      c1ede3cc9133209466774d4826044e408db13d6fe6df75...   \n",
       "1      c1ede3cc9133209466774d4826044e408db13d6fe6df75...   \n",
       "2      c1ede3cc9133209466774d4826044e408db13d6fe6df75...   \n",
       "3      c1ede3cc9133209466774d4826044e408db13d6fe6df75...   \n",
       "4      c1ede3cc9133209466774d4826044e408db13d6fe6df75...   \n",
       "...                                                  ...   \n",
       "18753  7d788a436d0f89669c12c32c563a5b3925f6bbed26f005...   \n",
       "18754  fd17a8a715c510d8d378f1272f052c0c9d7991e90e985d...   \n",
       "18755  3e71cb8fd420f425973e7fa17b4a8e2875aac0809d9674...   \n",
       "18756  cb7710f54debda254005da120424f31a9725cc3fbcd966...   \n",
       "18757  bd2d973b97a4afac701454ddca3bc83d4e704027977ddb...   \n",
       "\n",
       "                                               pool_addr  epoch     roa  \\\n",
       "0      pool1c8k78ny3xvsfgenhf4yzvpzwgzxmz0t0um0h2xnn2...    266  10.249   \n",
       "1      pool1c8k78ny3xvsfgenhf4yzvpzwgzxmz0t0um0h2xnn2...    267  10.142   \n",
       "2      pool1c8k78ny3xvsfgenhf4yzvpzwgzxmz0t0um0h2xnn2...    268   0.000   \n",
       "3      pool1c8k78ny3xvsfgenhf4yzvpzwgzxmz0t0um0h2xnn2...    269  10.017   \n",
       "4      pool1c8k78ny3xvsfgenhf4yzvpzwgzxmz0t0um0h2xnn2...    270  10.022   \n",
       "...                                                  ...    ...     ...   \n",
       "18753  pool104ug5smdp7ykd8qjcvk9vwjm8yjldwldymcq2zlue...    273   0.000   \n",
       "18754  pool1l5t63fc4c5gd35mc7ynj7pfvpjwhny0fp6v96jawp...    273   0.000   \n",
       "18755  pool18ecuhr75yr6zt9e707shkj5w9p664syqnkt8gmmlk...    273   0.000   \n",
       "18756  pool1edm3pa2da0dz2sq9mgfqgf8nr2tjtnplhnvkdwuwd...    273   0.000   \n",
       "18757  pool1h5kewwuh5jh6cuq52nwu5w7g8488qsp8ja7ahs8p2...    273   0.000   \n",
       "\n",
       "       active_stake  \n",
       "0      527631485613  \n",
       "1      527631485613  \n",
       "2      527589680120  \n",
       "3      528340712813  \n",
       "4      529124734881  \n",
       "...             ...  \n",
       "18753    1031218746  \n",
       "18754       3622050  \n",
       "18755      57618046  \n",
       "18756     137261172  \n",
       "18757    8247425397  \n",
       "\n",
       "[18758 rows x 5 columns]"
      ]
     },
     "execution_count": 4,
     "metadata": {},
     "output_type": "execute_result"
    }
   ],
   "source": [
    "pool_history_df"
   ]
  },
  {
   "cell_type": "code",
   "execution_count": 5,
   "metadata": {},
   "outputs": [
    {
     "data": {
      "text/html": [
       "<div>\n",
       "<style scoped>\n",
       "    .dataframe tbody tr th:only-of-type {\n",
       "        vertical-align: middle;\n",
       "    }\n",
       "\n",
       "    .dataframe tbody tr th {\n",
       "        vertical-align: top;\n",
       "    }\n",
       "\n",
       "    .dataframe thead th {\n",
       "        text-align: right;\n",
       "    }\n",
       "</style>\n",
       "<table border=\"1\" class=\"dataframe\">\n",
       "  <thead>\n",
       "    <tr style=\"text-align: right;\">\n",
       "      <th></th>\n",
       "      <th>pool_id</th>\n",
       "      <th>pool_addr</th>\n",
       "      <th>epoch</th>\n",
       "      <th>roa</th>\n",
       "      <th>active_stake</th>\n",
       "      <th>active_stake_ada</th>\n",
       "    </tr>\n",
       "  </thead>\n",
       "  <tbody>\n",
       "    <tr>\n",
       "      <td>0</td>\n",
       "      <td>c1ede3cc9133209466774d4826044e408db13d6fe6df75...</td>\n",
       "      <td>pool1c8k78ny3xvsfgenhf4yzvpzwgzxmz0t0um0h2xnn2...</td>\n",
       "      <td>266</td>\n",
       "      <td>10.249</td>\n",
       "      <td>527631485613</td>\n",
       "      <td>527631.485613</td>\n",
       "    </tr>\n",
       "    <tr>\n",
       "      <td>1</td>\n",
       "      <td>c1ede3cc9133209466774d4826044e408db13d6fe6df75...</td>\n",
       "      <td>pool1c8k78ny3xvsfgenhf4yzvpzwgzxmz0t0um0h2xnn2...</td>\n",
       "      <td>267</td>\n",
       "      <td>10.142</td>\n",
       "      <td>527631485613</td>\n",
       "      <td>527631.485613</td>\n",
       "    </tr>\n",
       "    <tr>\n",
       "      <td>2</td>\n",
       "      <td>c1ede3cc9133209466774d4826044e408db13d6fe6df75...</td>\n",
       "      <td>pool1c8k78ny3xvsfgenhf4yzvpzwgzxmz0t0um0h2xnn2...</td>\n",
       "      <td>268</td>\n",
       "      <td>0.000</td>\n",
       "      <td>527589680120</td>\n",
       "      <td>527589.680120</td>\n",
       "    </tr>\n",
       "    <tr>\n",
       "      <td>3</td>\n",
       "      <td>c1ede3cc9133209466774d4826044e408db13d6fe6df75...</td>\n",
       "      <td>pool1c8k78ny3xvsfgenhf4yzvpzwgzxmz0t0um0h2xnn2...</td>\n",
       "      <td>269</td>\n",
       "      <td>10.017</td>\n",
       "      <td>528340712813</td>\n",
       "      <td>528340.712813</td>\n",
       "    </tr>\n",
       "    <tr>\n",
       "      <td>4</td>\n",
       "      <td>c1ede3cc9133209466774d4826044e408db13d6fe6df75...</td>\n",
       "      <td>pool1c8k78ny3xvsfgenhf4yzvpzwgzxmz0t0um0h2xnn2...</td>\n",
       "      <td>270</td>\n",
       "      <td>10.022</td>\n",
       "      <td>529124734881</td>\n",
       "      <td>529124.734881</td>\n",
       "    </tr>\n",
       "    <tr>\n",
       "      <td>...</td>\n",
       "      <td>...</td>\n",
       "      <td>...</td>\n",
       "      <td>...</td>\n",
       "      <td>...</td>\n",
       "      <td>...</td>\n",
       "      <td>...</td>\n",
       "    </tr>\n",
       "    <tr>\n",
       "      <td>18753</td>\n",
       "      <td>7d788a436d0f89669c12c32c563a5b3925f6bbed26f005...</td>\n",
       "      <td>pool104ug5smdp7ykd8qjcvk9vwjm8yjldwldymcq2zlue...</td>\n",
       "      <td>273</td>\n",
       "      <td>0.000</td>\n",
       "      <td>1031218746</td>\n",
       "      <td>1031.218746</td>\n",
       "    </tr>\n",
       "    <tr>\n",
       "      <td>18754</td>\n",
       "      <td>fd17a8a715c510d8d378f1272f052c0c9d7991e90e985d...</td>\n",
       "      <td>pool1l5t63fc4c5gd35mc7ynj7pfvpjwhny0fp6v96jawp...</td>\n",
       "      <td>273</td>\n",
       "      <td>0.000</td>\n",
       "      <td>3622050</td>\n",
       "      <td>3.622050</td>\n",
       "    </tr>\n",
       "    <tr>\n",
       "      <td>18755</td>\n",
       "      <td>3e71cb8fd420f425973e7fa17b4a8e2875aac0809d9674...</td>\n",
       "      <td>pool18ecuhr75yr6zt9e707shkj5w9p664syqnkt8gmmlk...</td>\n",
       "      <td>273</td>\n",
       "      <td>0.000</td>\n",
       "      <td>57618046</td>\n",
       "      <td>57.618046</td>\n",
       "    </tr>\n",
       "    <tr>\n",
       "      <td>18756</td>\n",
       "      <td>cb7710f54debda254005da120424f31a9725cc3fbcd966...</td>\n",
       "      <td>pool1edm3pa2da0dz2sq9mgfqgf8nr2tjtnplhnvkdwuwd...</td>\n",
       "      <td>273</td>\n",
       "      <td>0.000</td>\n",
       "      <td>137261172</td>\n",
       "      <td>137.261172</td>\n",
       "    </tr>\n",
       "    <tr>\n",
       "      <td>18757</td>\n",
       "      <td>bd2d973b97a4afac701454ddca3bc83d4e704027977ddb...</td>\n",
       "      <td>pool1h5kewwuh5jh6cuq52nwu5w7g8488qsp8ja7ahs8p2...</td>\n",
       "      <td>273</td>\n",
       "      <td>0.000</td>\n",
       "      <td>8247425397</td>\n",
       "      <td>8247.425397</td>\n",
       "    </tr>\n",
       "  </tbody>\n",
       "</table>\n",
       "<p>18752 rows × 6 columns</p>\n",
       "</div>"
      ],
      "text/plain": [
       "                                                 pool_id  \\\n",
       "0      c1ede3cc9133209466774d4826044e408db13d6fe6df75...   \n",
       "1      c1ede3cc9133209466774d4826044e408db13d6fe6df75...   \n",
       "2      c1ede3cc9133209466774d4826044e408db13d6fe6df75...   \n",
       "3      c1ede3cc9133209466774d4826044e408db13d6fe6df75...   \n",
       "4      c1ede3cc9133209466774d4826044e408db13d6fe6df75...   \n",
       "...                                                  ...   \n",
       "18753  7d788a436d0f89669c12c32c563a5b3925f6bbed26f005...   \n",
       "18754  fd17a8a715c510d8d378f1272f052c0c9d7991e90e985d...   \n",
       "18755  3e71cb8fd420f425973e7fa17b4a8e2875aac0809d9674...   \n",
       "18756  cb7710f54debda254005da120424f31a9725cc3fbcd966...   \n",
       "18757  bd2d973b97a4afac701454ddca3bc83d4e704027977ddb...   \n",
       "\n",
       "                                               pool_addr  epoch     roa  \\\n",
       "0      pool1c8k78ny3xvsfgenhf4yzvpzwgzxmz0t0um0h2xnn2...    266  10.249   \n",
       "1      pool1c8k78ny3xvsfgenhf4yzvpzwgzxmz0t0um0h2xnn2...    267  10.142   \n",
       "2      pool1c8k78ny3xvsfgenhf4yzvpzwgzxmz0t0um0h2xnn2...    268   0.000   \n",
       "3      pool1c8k78ny3xvsfgenhf4yzvpzwgzxmz0t0um0h2xnn2...    269  10.017   \n",
       "4      pool1c8k78ny3xvsfgenhf4yzvpzwgzxmz0t0um0h2xnn2...    270  10.022   \n",
       "...                                                  ...    ...     ...   \n",
       "18753  pool104ug5smdp7ykd8qjcvk9vwjm8yjldwldymcq2zlue...    273   0.000   \n",
       "18754  pool1l5t63fc4c5gd35mc7ynj7pfvpjwhny0fp6v96jawp...    273   0.000   \n",
       "18755  pool18ecuhr75yr6zt9e707shkj5w9p664syqnkt8gmmlk...    273   0.000   \n",
       "18756  pool1edm3pa2da0dz2sq9mgfqgf8nr2tjtnplhnvkdwuwd...    273   0.000   \n",
       "18757  pool1h5kewwuh5jh6cuq52nwu5w7g8488qsp8ja7ahs8p2...    273   0.000   \n",
       "\n",
       "       active_stake  active_stake_ada  \n",
       "0      527631485613     527631.485613  \n",
       "1      527631485613     527631.485613  \n",
       "2      527589680120     527589.680120  \n",
       "3      528340712813     528340.712813  \n",
       "4      529124734881     529124.734881  \n",
       "...             ...               ...  \n",
       "18753    1031218746       1031.218746  \n",
       "18754       3622050          3.622050  \n",
       "18755      57618046         57.618046  \n",
       "18756     137261172        137.261172  \n",
       "18757    8247425397       8247.425397  \n",
       "\n",
       "[18752 rows x 6 columns]"
      ]
     },
     "execution_count": 5,
     "metadata": {},
     "output_type": "execute_result"
    }
   ],
   "source": [
    "pool_history_df =  pool_history_df.dropna()\n",
    "pool_history_df['active_stake_ada'] = pool_history_df.iloc[:,4].values / 1000000\n",
    "pool_history_df"
   ]
  },
  {
   "cell_type": "code",
   "execution_count": 6,
   "metadata": {},
   "outputs": [],
   "source": [
    "# x = pool_history_df.iloc[:,4].values\n",
    "x = pool_history_df.iloc[:,5].values\n",
    "x = x.reshape((-1, 1))\n",
    "y = pool_history_df.iloc[:,3].values"
   ]
  },
  {
   "cell_type": "code",
   "execution_count": 7,
   "metadata": {},
   "outputs": [
    {
     "name": "stdout",
     "output_type": "stream",
     "text": [
      "[[5.27631486e+05]\n",
      " [5.27631486e+05]\n",
      " [5.27589680e+05]\n",
      " ...\n",
      " [5.76180460e+01]\n",
      " [1.37261172e+02]\n",
      " [8.24742540e+03]]\n",
      "[10.249 10.142  0.    ...  0.     0.     0.   ]\n"
     ]
    }
   ],
   "source": [
    "print(x)\n",
    "print(y)"
   ]
  },
  {
   "cell_type": "markdown",
   "metadata": {},
   "source": [
    "# OLS regression\n",
    "Simple Single Variable Linear Regression"
   ]
  },
  {
   "cell_type": "code",
   "execution_count": 8,
   "metadata": {},
   "outputs": [],
   "source": [
    "model = LinearRegression()"
   ]
  },
  {
   "cell_type": "code",
   "execution_count": 9,
   "metadata": {},
   "outputs": [
    {
     "data": {
      "text/plain": [
       "LinearRegression(copy_X=True, fit_intercept=True, n_jobs=None, normalize=False)"
      ]
     },
     "execution_count": 9,
     "metadata": {},
     "output_type": "execute_result"
    }
   ],
   "source": [
    "model.fit(x, y)"
   ]
  },
  {
   "cell_type": "code",
   "execution_count": 10,
   "metadata": {},
   "outputs": [],
   "source": [
    "model = LinearRegression(normalize=True).fit(x, y)"
   ]
  },
  {
   "cell_type": "code",
   "execution_count": 11,
   "metadata": {},
   "outputs": [],
   "source": [
    " r_sq = model.score(x, y)"
   ]
  },
  {
   "cell_type": "code",
   "execution_count": 12,
   "metadata": {},
   "outputs": [
    {
     "name": "stdout",
     "output_type": "stream",
     "text": [
      "coefficient of determination: 0.0006548763272344882\n",
      "intercept: 3.2111911785454357\n",
      "slope: [4.11271693e-08]\n"
     ]
    }
   ],
   "source": [
    "print('coefficient of determination:', r_sq)\n",
    "print('intercept:', model.intercept_)\n",
    "print('slope:', model.coef_)"
   ]
  },
  {
   "cell_type": "code",
   "execution_count": 13,
   "metadata": {},
   "outputs": [],
   "source": [
    "x_y = list(zip(pool_history_df.iloc[:,5].values,y))"
   ]
  },
  {
   "cell_type": "markdown",
   "metadata": {},
   "source": [
    "### Okay, so from the intial regression analysis we can see that our model of the roa based on active stake is quite poor. "
   ]
  },
  {
   "cell_type": "code",
   "execution_count": 18,
   "metadata": {},
   "outputs": [],
   "source": [
    "for i in range(0,len(x_y)):\n",
    "    plt.scatter(x_y[i][0],x_y[i][1])"
   ]
  },
  {
   "cell_type": "code",
   "execution_count": null,
   "metadata": {},
   "outputs": [
    {
     "data": {
      "image/png": "[encoded data removed]",
      "text/plain": [
       "<Figure size 432x288 with 1 Axes>"
      ]
     },
     "metadata": {
      "needs_background": "light"
     },
     "output_type": "display_data"
    }
   ],
   "source": []
  },
  {
   "cell_type": "code",
   "execution_count": null,
   "metadata": {},
   "outputs": [
    {
     "data": {
      "image/png": "[encoded data removed]",
      "text/plain": [
       "<Figure size 432x288 with 1 Axes>"
      ]
     },
     "metadata": {
      "needs_background": "light"
     },
     "output_type": "display_data"
    }
   ],
   "source": [
    "b1 = model.coef_\n",
    "b0 = model.intercept_\n",
    "abline_values = [b1 * i + b0 for i in x]\n",
    "plt.scatter(x, y)\n",
    "plt.plot(x, abline_values, 'b')\n",
    "plt.title('fitted line y ='+str(b0)+' + '+str(b1)+'x');"
   ]
  },
  {
   "cell_type": "code",
   "execution_count": null,
   "metadata": {},
   "outputs": [
    {
     "name": "stdout",
     "output_type": "stream",
     "text": [
      "predicted response:\n",
      "[3.23289117 3.23289117 3.23288945 ... 3.21119355 3.21119682 3.21153037]\n"
     ]
    }
   ],
   "source": [
    "y_pred = model.predict(x)\n",
    "print('predicted response:', y_pred, sep='\\n')"
   ]
  },
  {
   "cell_type": "code",
   "execution_count": 15,
   "metadata": {},
   "outputs": [
    {
     "ename": "KeyboardInterrupt",
     "evalue": "",
     "output_type": "error",
     "traceback": [
      "\u001b[0;31m---------------------------------------------------------------------------\u001b[0m",
      "\u001b[0;31mKeyboardInterrupt\u001b[0m                         Traceback (most recent call last)",
      "\u001b[0;32m<ipython-input-15-fc9909c1eec5>\u001b[0m in \u001b[0;36m<module>\u001b[0;34m\u001b[0m\n\u001b[1;32m      5\u001b[0m           \u001b[0my\u001b[0m\u001b[0;34m=\u001b[0m\u001b[0;34m'roa'\u001b[0m\u001b[0;34m,\u001b[0m\u001b[0;34m\u001b[0m\u001b[0;34m\u001b[0m\u001b[0m\n\u001b[1;32m      6\u001b[0m           \u001b[0mcolor\u001b[0m\u001b[0;34m=\u001b[0m\u001b[0;34m'pool_id'\u001b[0m\u001b[0;34m,\u001b[0m\u001b[0;34m\u001b[0m\u001b[0;34m\u001b[0m\u001b[0m\n\u001b[0;32m----> 7\u001b[0;31m           size='active_stake_ada')\n\u001b[0m\u001b[1;32m      8\u001b[0m \u001b[0;34m\u001b[0m\u001b[0m\n\u001b[1;32m      9\u001b[0m \u001b[0mfig\u001b[0m\u001b[0;34m.\u001b[0m\u001b[0mupdate_xaxes\u001b[0m\u001b[0;34m(\u001b[0m\u001b[0mrange\u001b[0m\u001b[0;34m=\u001b[0m\u001b[0;34m[\u001b[0m\u001b[0;36m0\u001b[0m\u001b[0;34m,\u001b[0m \u001b[0;36m100\u001b[0m\u001b[0;34m]\u001b[0m\u001b[0;34m)\u001b[0m\u001b[0;34m\u001b[0m\u001b[0;34m\u001b[0m\u001b[0m\n",
      "\u001b[0;32m/Applications/anaconda3/lib/python3.7/site-packages/plotly/express/_chart_types.py\u001b[0m in \u001b[0;36mscatter\u001b[0;34m(data_frame, x, y, color, symbol, size, hover_name, hover_data, custom_data, text, facet_row, facet_col, facet_col_wrap, error_x, error_x_minus, error_y, error_y_minus, animation_frame, animation_group, category_orders, labels, color_discrete_sequence, color_discrete_map, color_continuous_scale, range_color, color_continuous_midpoint, symbol_sequence, symbol_map, opacity, size_max, marginal_x, marginal_y, trendline, trendline_color_override, log_x, log_y, range_x, range_y, render_mode, title, template, width, height)\u001b[0m\n\u001b[1;32m     53\u001b[0m     \u001b[0mmark\u001b[0m \u001b[0;32min\u001b[0m \u001b[0;36m2\u001b[0m\u001b[0mD\u001b[0m \u001b[0mspace\u001b[0m\u001b[0;34m.\u001b[0m\u001b[0;34m\u001b[0m\u001b[0;34m\u001b[0m\u001b[0m\n\u001b[1;32m     54\u001b[0m     \"\"\"\n\u001b[0;32m---> 55\u001b[0;31m     \u001b[0;32mreturn\u001b[0m \u001b[0mmake_figure\u001b[0m\u001b[0;34m(\u001b[0m\u001b[0margs\u001b[0m\u001b[0;34m=\u001b[0m\u001b[0mlocals\u001b[0m\u001b[0;34m(\u001b[0m\u001b[0;34m)\u001b[0m\u001b[0;34m,\u001b[0m \u001b[0mconstructor\u001b[0m\u001b[0;34m=\u001b[0m\u001b[0mgo\u001b[0m\u001b[0;34m.\u001b[0m\u001b[0mScatter\u001b[0m\u001b[0;34m)\u001b[0m\u001b[0;34m\u001b[0m\u001b[0;34m\u001b[0m\u001b[0m\n\u001b[0m\u001b[1;32m     56\u001b[0m \u001b[0;34m\u001b[0m\u001b[0m\n\u001b[1;32m     57\u001b[0m \u001b[0;34m\u001b[0m\u001b[0m\n",
      "\u001b[0;32m/Applications/anaconda3/lib/python3.7/site-packages/plotly/express/_core.py\u001b[0m in \u001b[0;36mmake_figure\u001b[0;34m(args, constructor, trace_patch, layout_patch)\u001b[0m\n\u001b[1;32m   1369\u001b[0m \u001b[0;34m\u001b[0m\u001b[0m\n\u001b[1;32m   1370\u001b[0m     orders, sorted_group_names, sorted_group_values = get_orderings(\n\u001b[0;32m-> 1371\u001b[0;31m         \u001b[0margs\u001b[0m\u001b[0;34m,\u001b[0m \u001b[0mgrouper\u001b[0m\u001b[0;34m,\u001b[0m \u001b[0mgrouped\u001b[0m\u001b[0;34m\u001b[0m\u001b[0;34m\u001b[0m\u001b[0m\n\u001b[0m\u001b[1;32m   1372\u001b[0m     )\n\u001b[1;32m   1373\u001b[0m \u001b[0;34m\u001b[0m\u001b[0m\n",
      "\u001b[0;32m/Applications/anaconda3/lib/python3.7/site-packages/plotly/express/_core.py\u001b[0m in \u001b[0;36mget_orderings\u001b[0;34m(args, grouper, grouped)\u001b[0m\n\u001b[1;32m   1347\u001b[0m                         \u001b[0;32mif\u001b[0m \u001b[0mval\u001b[0m \u001b[0;32mnot\u001b[0m \u001b[0;32min\u001b[0m \u001b[0morders\u001b[0m\u001b[0;34m[\u001b[0m\u001b[0mcol\u001b[0m\u001b[0;34m]\u001b[0m\u001b[0;34m:\u001b[0m\u001b[0;34m\u001b[0m\u001b[0;34m\u001b[0m\u001b[0m\n\u001b[1;32m   1348\u001b[0m                             \u001b[0morders\u001b[0m\u001b[0;34m[\u001b[0m\u001b[0mcol\u001b[0m\u001b[0;34m]\u001b[0m\u001b[0;34m.\u001b[0m\u001b[0mappend\u001b[0m\u001b[0;34m(\u001b[0m\u001b[0mval\u001b[0m\u001b[0;34m)\u001b[0m\u001b[0;34m\u001b[0m\u001b[0;34m\u001b[0m\u001b[0m\n\u001b[0;32m-> 1349\u001b[0;31m                 \u001b[0mgroup_values\u001b[0m\u001b[0;34m[\u001b[0m\u001b[0mcol\u001b[0m\u001b[0;34m]\u001b[0m \u001b[0;34m=\u001b[0m \u001b[0msorted\u001b[0m\u001b[0;34m(\u001b[0m\u001b[0muniques\u001b[0m\u001b[0;34m,\u001b[0m \u001b[0mkey\u001b[0m\u001b[0;34m=\u001b[0m\u001b[0morders\u001b[0m\u001b[0;34m[\u001b[0m\u001b[0mcol\u001b[0m\u001b[0;34m]\u001b[0m\u001b[0;34m.\u001b[0m\u001b[0mindex\u001b[0m\u001b[0;34m)\u001b[0m\u001b[0;34m\u001b[0m\u001b[0;34m\u001b[0m\u001b[0m\n\u001b[0m\u001b[1;32m   1350\u001b[0m \u001b[0;34m\u001b[0m\u001b[0m\n\u001b[1;32m   1351\u001b[0m     \u001b[0;32mfor\u001b[0m \u001b[0mi\u001b[0m\u001b[0;34m,\u001b[0m \u001b[0mcol\u001b[0m \u001b[0;32min\u001b[0m \u001b[0mreversed\u001b[0m\u001b[0;34m(\u001b[0m\u001b[0mlist\u001b[0m\u001b[0;34m(\u001b[0m\u001b[0menumerate\u001b[0m\u001b[0;34m(\u001b[0m\u001b[0mgrouper\u001b[0m\u001b[0;34m)\u001b[0m\u001b[0;34m)\u001b[0m\u001b[0;34m)\u001b[0m\u001b[0;34m:\u001b[0m\u001b[0;34m\u001b[0m\u001b[0;34m\u001b[0m\u001b[0m\n",
      "\u001b[0;31mKeyboardInterrupt\u001b[0m: "
     ]
    }
   ],
   "source": [
    "import plotly.express as px\n",
    "\n",
    "fig = px.scatter(pool_history_df,\n",
    "          x='active_stake_ada',\n",
    "          y='roa',\n",
    "          color='pool_id',\n",
    "          size='active_stake_ada')\n",
    "\n",
    "fig.update_xaxes(range=[0, 100])\n",
    "fig.show()"
   ]
  },
  {
   "cell_type": "code",
   "execution_count": null,
   "metadata": {},
   "outputs": [
    {
     "data": {
      "text/plain": [
       "(4.0, 0.0)"
      ]
     },
     "execution_count": 27,
     "metadata": {},
     "output_type": "execute_result"
    },
    {
     "data": {
      "image/png": "[encoded data removed]",
      "text/plain": [
       "<Figure size 432x288 with 2 Axes>"
      ]
     },
     "metadata": {
      "needs_background": "light"
     },
     "output_type": "display_data"
    }
   ],
   "source": [
    "\n",
    "ax = sns.heatmap(pool_history_df.corr(), annot = True,  cbar_kws= {'orientation': 'horizontal'} )\n",
    "bottom, top = ax.get_ylim()\n",
    "ax.set_ylim(bottom + 0.5, top - 0.5)"
   ]
  },
  {
   "cell_type": "markdown",
   "metadata": {},
   "source": [
    "# Multiple Rergression "
   ]
  },
  {
   "cell_type": "markdown",
   "metadata": {},
   "source": [
    "# Logarithmic Regression"
   ]
  },
  {
   "cell_type": "markdown",
   "metadata": {},
   "source": [
    "# Polynomial Regression"
   ]
  },
  {
   "cell_type": "markdown",
   "metadata": {},
   "source": [
    "# Advanced Linear Regression With statsmodels\n"
   ]
  },
  {
   "cell_type": "markdown",
   "metadata": {},
   "source": []
  }
 ],
 "metadata": {
  "interpreter": {
   "hash": "344443636c3027c5042750c9c609acdda283a9c43681b128a8c1053e7ad2aa7d"
  },
  "kernelspec": {
   "display_name": "Python 3.7.4 64-bit ('base': conda)",
   "name": "python3"
  },
  "language_info": {
   "codemirror_mode": {
    "name": "ipython",
    "version": 3
   },
   "file_extension": ".py",
   "mimetype": "text/x-python",
   "name": "python",
   "nbconvert_exporter": "python",
   "pygments_lexer": "ipython3",
   "version": "3.7.4"
  }
 },
 "nbformat": 4,
 "nbformat_minor": 2
}