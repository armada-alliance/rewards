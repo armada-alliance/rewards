{
 "cells": [
  {
   "cell_type": "markdown",
   "metadata": {},
   "source": []
  },
  {
   "cell_type": "code",
   "execution_count": 2,
   "metadata": {},
   "outputs": [],
   "source": [
    "#Importing packages\n",
    "import os\n",
    "import math as m\n",
    "import pandas as pd\n",
    "import matplotlib.pyplot as plt\n",
    "import numpy as np\n",
    "import seaborn as sns\n",
    "from sklearn.preprocessing import StandardScaler\n",
    "from sklearn.preprocessing import MinMaxScaler\n",
    "from sklearn.cluster import KMeans\n",
    "from sklearn.model_selection import train_test_split \n",
    "from sklearn.linear_model import LinearRegression\n",
    "from sklearn import metrics\n",
    "\n",
    "pd.options.mode.chained_assignment = None  # default='warn'\n",
    "\n",
    "\n",
    "# pd.set_option('display.max_columns', None)\n",
    "# pd.set_option('display.width', None)\n",
    "pd.set_option('display.max_rows', 100)"
   ]
  },
  {
   "cell_type": "code",
   "execution_count": 28,
   "metadata": {},
   "outputs": [],
   "source": [
    "pool_history_df = pd.read_csv('dataset.csv')"
   ]
  },
  {
   "cell_type": "code",
   "execution_count": 29,
   "metadata": {},
   "outputs": [
    {
     "data": {
      "text/plain": [
       "18758"
      ]
     },
     "execution_count": 29,
     "metadata": {},
     "output_type": "execute_result"
    }
   ],
   "source": [
    "pool_history_df.shape[0]"
   ]
  },
  {
   "cell_type": "code",
   "execution_count": 30,
   "metadata": {},
   "outputs": [
    {
     "data": {
      "text/html": [
       "<div>\n",
       "<style scoped>\n",
       "    .dataframe tbody tr th:only-of-type {\n",
       "        vertical-align: middle;\n",
       "    }\n",
       "\n",
       "    .dataframe tbody tr th {\n",
       "        vertical-align: top;\n",
       "    }\n",
       "\n",
       "    .dataframe thead th {\n",
       "        text-align: right;\n",
       "    }\n",
       "</style>\n",
       "<table border=\"1\" class=\"dataframe\">\n",
       "  <thead>\n",
       "    <tr style=\"text-align: right;\">\n",
       "      <th></th>\n",
       "      <th>pool_id</th>\n",
       "      <th>pool_addr</th>\n",
       "      <th>epoch</th>\n",
       "      <th>roa</th>\n",
       "      <th>active_stake</th>\n",
       "    </tr>\n",
       "  </thead>\n",
       "  <tbody>\n",
       "    <tr>\n",
       "      <td>0</td>\n",
       "      <td>c1ede3cc9133209466774d4826044e408db13d6fe6df75...</td>\n",
       "      <td>pool1c8k78ny3xvsfgenhf4yzvpzwgzxmz0t0um0h2xnn2...</td>\n",
       "      <td>266</td>\n",
       "      <td>10.249</td>\n",
       "      <td>527631485613</td>\n",
       "    </tr>\n",
       "    <tr>\n",
       "      <td>1</td>\n",
       "      <td>c1ede3cc9133209466774d4826044e408db13d6fe6df75...</td>\n",
       "      <td>pool1c8k78ny3xvsfgenhf4yzvpzwgzxmz0t0um0h2xnn2...</td>\n",
       "      <td>267</td>\n",
       "      <td>10.142</td>\n",
       "      <td>527631485613</td>\n",
       "    </tr>\n",
       "    <tr>\n",
       "      <td>2</td>\n",
       "      <td>c1ede3cc9133209466774d4826044e408db13d6fe6df75...</td>\n",
       "      <td>pool1c8k78ny3xvsfgenhf4yzvpzwgzxmz0t0um0h2xnn2...</td>\n",
       "      <td>268</td>\n",
       "      <td>0.000</td>\n",
       "      <td>527589680120</td>\n",
       "    </tr>\n",
       "    <tr>\n",
       "      <td>3</td>\n",
       "      <td>c1ede3cc9133209466774d4826044e408db13d6fe6df75...</td>\n",
       "      <td>pool1c8k78ny3xvsfgenhf4yzvpzwgzxmz0t0um0h2xnn2...</td>\n",
       "      <td>269</td>\n",
       "      <td>10.017</td>\n",
       "      <td>528340712813</td>\n",
       "    </tr>\n",
       "    <tr>\n",
       "      <td>4</td>\n",
       "      <td>c1ede3cc9133209466774d4826044e408db13d6fe6df75...</td>\n",
       "      <td>pool1c8k78ny3xvsfgenhf4yzvpzwgzxmz0t0um0h2xnn2...</td>\n",
       "      <td>270</td>\n",
       "      <td>10.022</td>\n",
       "      <td>529124734881</td>\n",
       "    </tr>\n",
       "    <tr>\n",
       "      <td>...</td>\n",
       "      <td>...</td>\n",
       "      <td>...</td>\n",
       "      <td>...</td>\n",
       "      <td>...</td>\n",
       "      <td>...</td>\n",
       "    </tr>\n",
       "    <tr>\n",
       "      <td>18753</td>\n",
       "      <td>7d788a436d0f89669c12c32c563a5b3925f6bbed26f005...</td>\n",
       "      <td>pool104ug5smdp7ykd8qjcvk9vwjm8yjldwldymcq2zlue...</td>\n",
       "      <td>273</td>\n",
       "      <td>0.000</td>\n",
       "      <td>1031218746</td>\n",
       "    </tr>\n",
       "    <tr>\n",
       "      <td>18754</td>\n",
       "      <td>fd17a8a715c510d8d378f1272f052c0c9d7991e90e985d...</td>\n",
       "      <td>pool1l5t63fc4c5gd35mc7ynj7pfvpjwhny0fp6v96jawp...</td>\n",
       "      <td>273</td>\n",
       "      <td>0.000</td>\n",
       "      <td>3622050</td>\n",
       "    </tr>\n",
       "    <tr>\n",
       "      <td>18755</td>\n",
       "      <td>3e71cb8fd420f425973e7fa17b4a8e2875aac0809d9674...</td>\n",
       "      <td>pool18ecuhr75yr6zt9e707shkj5w9p664syqnkt8gmmlk...</td>\n",
       "      <td>273</td>\n",
       "      <td>0.000</td>\n",
       "      <td>57618046</td>\n",
       "    </tr>\n",
       "    <tr>\n",
       "      <td>18756</td>\n",
       "      <td>cb7710f54debda254005da120424f31a9725cc3fbcd966...</td>\n",
       "      <td>pool1edm3pa2da0dz2sq9mgfqgf8nr2tjtnplhnvkdwuwd...</td>\n",
       "      <td>273</td>\n",
       "      <td>0.000</td>\n",
       "      <td>137261172</td>\n",
       "    </tr>\n",
       "    <tr>\n",
       "      <td>18757</td>\n",
       "      <td>bd2d973b97a4afac701454ddca3bc83d4e704027977ddb...</td>\n",
       "      <td>pool1h5kewwuh5jh6cuq52nwu5w7g8488qsp8ja7ahs8p2...</td>\n",
       "      <td>273</td>\n",
       "      <td>0.000</td>\n",
       "      <td>8247425397</td>\n",
       "    </tr>\n",
       "  </tbody>\n",
       "</table>\n",
       "<p>18758 rows × 5 columns</p>\n",
       "</div>"
      ],
      "text/plain": [
       "                                                 pool_id  \\\n",
       "0      c1ede3cc9133209466774d4826044e408db13d6fe6df75...   \n",
       "1      c1ede3cc9133209466774d4826044e408db13d6fe6df75...   \n",
       "2      c1ede3cc9133209466774d4826044e408db13d6fe6df75...   \n",
       "3      c1ede3cc9133209466774d4826044e408db13d6fe6df75...   \n",
       "4      c1ede3cc9133209466774d4826044e408db13d6fe6df75...   \n",
       "...                                                  ...   \n",
       "18753  7d788a436d0f89669c12c32c563a5b3925f6bbed26f005...   \n",
       "18754  fd17a8a715c510d8d378f1272f052c0c9d7991e90e985d...   \n",
       "18755  3e71cb8fd420f425973e7fa17b4a8e2875aac0809d9674...   \n",
       "18756  cb7710f54debda254005da120424f31a9725cc3fbcd966...   \n",
       "18757  bd2d973b97a4afac701454ddca3bc83d4e704027977ddb...   \n",
       "\n",
       "                                               pool_addr  epoch     roa  \\\n",
       "0      pool1c8k78ny3xvsfgenhf4yzvpzwgzxmz0t0um0h2xnn2...    266  10.249   \n",
       "1      pool1c8k78ny3xvsfgenhf4yzvpzwgzxmz0t0um0h2xnn2...    267  10.142   \n",
       "2      pool1c8k78ny3xvsfgenhf4yzvpzwgzxmz0t0um0h2xnn2...    268   0.000   \n",
       "3      pool1c8k78ny3xvsfgenhf4yzvpzwgzxmz0t0um0h2xnn2...    269  10.017   \n",
       "4      pool1c8k78ny3xvsfgenhf4yzvpzwgzxmz0t0um0h2xnn2...    270  10.022   \n",
       "...                                                  ...    ...     ...   \n",
       "18753  pool104ug5smdp7ykd8qjcvk9vwjm8yjldwldymcq2zlue...    273   0.000   \n",
       "18754  pool1l5t63fc4c5gd35mc7ynj7pfvpjwhny0fp6v96jawp...    273   0.000   \n",
       "18755  pool18ecuhr75yr6zt9e707shkj5w9p664syqnkt8gmmlk...    273   0.000   \n",
       "18756  pool1edm3pa2da0dz2sq9mgfqgf8nr2tjtnplhnvkdwuwd...    273   0.000   \n",
       "18757  pool1h5kewwuh5jh6cuq52nwu5w7g8488qsp8ja7ahs8p2...    273   0.000   \n",
       "\n",
       "       active_stake  \n",
       "0      527631485613  \n",
       "1      527631485613  \n",
       "2      527589680120  \n",
       "3      528340712813  \n",
       "4      529124734881  \n",
       "...             ...  \n",
       "18753    1031218746  \n",
       "18754       3622050  \n",
       "18755      57618046  \n",
       "18756     137261172  \n",
       "18757    8247425397  \n",
       "\n",
       "[18758 rows x 5 columns]"
      ]
     },
     "execution_count": 30,
     "metadata": {},
     "output_type": "execute_result"
    }
   ],
   "source": [
    "pool_history_df"
   ]
  },
  {
   "cell_type": "code",
   "execution_count": 31,
   "metadata": {},
   "outputs": [],
   "source": [
    "pool_history_df =  pool_history_df.dropna()"
   ]
  },
  {
   "cell_type": "code",
   "execution_count": 32,
   "metadata": {},
   "outputs": [],
   "source": [
    "x = pool_history_df.iloc[:,4].values\n",
    "x = x.reshape((-1, 1))\n",
    "y = pool_history_df.iloc[:,3].values"
   ]
  },
  {
   "cell_type": "code",
   "execution_count": 34,
   "metadata": {},
   "outputs": [
    {
     "name": "stdout",
     "output_type": "stream",
     "text": [
      "[[527631485613]\n",
      " [527631485613]\n",
      " [527589680120]\n",
      " ...\n",
      " [    57618046]\n",
      " [   137261172]\n",
      " [  8247425397]]\n",
      "[10.249 10.142  0.    ...  0.     0.     0.   ]\n"
     ]
    }
   ],
   "source": [
    "print(x)\n",
    "print(y)"
   ]
  },
  {
   "cell_type": "code",
   "execution_count": 35,
   "metadata": {},
   "outputs": [],
   "source": [
    "model = LinearRegression()"
   ]
  },
  {
   "cell_type": "code",
   "execution_count": 36,
   "metadata": {},
   "outputs": [
    {
     "data": {
      "text/plain": [
       "LinearRegression(copy_X=True, fit_intercept=True, n_jobs=None, normalize=False)"
      ]
     },
     "execution_count": 36,
     "metadata": {},
     "output_type": "execute_result"
    }
   ],
   "source": [
    "model.fit(x, y)"
   ]
  },
  {
   "cell_type": "code",
   "execution_count": 41,
   "metadata": {},
   "outputs": [],
   "source": [
    "model = LinearRegression(normalize=True).fit(x, y)"
   ]
  },
  {
   "cell_type": "code",
   "execution_count": 42,
   "metadata": {},
   "outputs": [],
   "source": [
    " r_sq = model.score(x, y)"
   ]
  },
  {
   "cell_type": "code",
   "execution_count": 46,
   "metadata": {},
   "outputs": [
    {
     "name": "stdout",
     "output_type": "stream",
     "text": [
      "coefficient of determination: 0.0006548763272344882\n",
      "intercept: 3.2111911785454357\n",
      "slope: [4.11271693e-14]\n"
     ]
    }
   ],
   "source": [
    "print('coefficient of determination:', r_sq)\n",
    "print('intercept:', model.intercept_)\n",
    "print('slope:', model.coef_)"
   ]
  },
  {
   "cell_type": "markdown",
   "metadata": {},
   "source": [
    "### Okay, so from the intial regression analysis we can see that our model of the roa based on active stake is quite poor. "
   ]
  }
 ],
 "metadata": {
  "interpreter": {
   "hash": "344443636c3027c5042750c9c609acdda283a9c43681b128a8c1053e7ad2aa7d"
  },
  "kernelspec": {
   "display_name": "Python 3.7.4 64-bit ('base': conda)",
   "name": "python3"
  },
  "language_info": {
   "codemirror_mode": {
    "name": "ipython",
    "version": 3
   },
   "file_extension": ".py",
   "mimetype": "text/x-python",
   "name": "python",
   "nbconvert_exporter": "python",
   "pygments_lexer": "ipython3",
   "version": "3.7.4"
  }
 },
 "nbformat": 4,
 "nbformat_minor": 2
}