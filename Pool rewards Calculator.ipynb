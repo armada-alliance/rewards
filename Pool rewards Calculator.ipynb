{
 "cells": [
  {
   "cell_type": "markdown",
   "metadata": {},
   "source": [
    "# Cardano Stake Pool Rewards Calculation"
   ]
  },
  {
   "cell_type": "markdown",
   "metadata": {},
   "source": [
    "## Expected Slots Per Epoch:\n",
    "\n",
    "\n",
    "For us to calculate the expected number of slots based on a stake pool's active stake size at the epoch snapshot we need a to find a few values that influence the calculation.\n",
    "\n",
    "1. **The total number of blocks , B, that's added to the blockchain across all pools per epoch.**\n",
    "    \n",
    "    - The total number of blocks that are added to the blockchain per epoch is approximately given by the following formula: \n",
    "    \n",
    "    **Given there are approx 1 block forged every 20 seconds we get**\n",
    "    \n",
    "    (1block/20sec) * (60sec/1min) * (60min/1hr) * (24hrs/day) * (5days/1epoch) = 21,600Blocks/epoch \n",
    "    \n",
    "    \n",
    "    \n",
    "2. **The total size of the pool , s, that is staked in the pool during the epoch snapshot, this is the based on the previous epoch when the snapshot was taken for this current epoch.**\n",
    "\n",
    "\n",
    "3. **The total staked ADA, S, across the entire network (includes every pool).**\n",
    "\n",
    "\n",
    "\n",
    "Now, in order to calculate the expected number of slots a pool should get is a very simple formula:\n",
    "\n",
    "- **Expected Slots = E = (B*s)/S**\n",
    "\n",
    "\n"
   ]
  },
  {
   "cell_type": "code",
   "execution_count": 11,
   "metadata": {},
   "outputs": [],
   "source": [
    "def expected_slots(B,s,S):\n",
    "    result = (B*s)/S\n",
    "    \n",
    "    return result\n"
   ]
  },
  {
   "cell_type": "code",
   "execution_count": 15,
   "metadata": {},
   "outputs": [
    {
     "data": {
      "text/plain": [
       "0.06084507042253521"
      ]
     },
     "execution_count": 15,
     "metadata": {},
     "output_type": "execute_result"
    }
   ],
   "source": [
    "slots = expected_slots(21600,2e5,71e9)\n",
    "slots"
   ]
  },
  {
   "cell_type": "markdown",
   "metadata": {},
   "source": [
    "\n",
    "## Expected Blocks Per Epoch:\n",
    "\n",
    "If we want to find the expected blocks per epoch that a pool can get based on its relative active stake we just need to take the above formula and simply solve it for the total pool size variable (s). \n",
    "\n",
    "We get the folowing formula:\n",
    "\n",
    "- **Expeceted Blocks = s = (E * S)/B**"
   ]
  },
  {
   "cell_type": "code",
   "execution_count": 16,
   "metadata": {},
   "outputs": [],
   "source": [
    "def expected_blocks(E,S,B):\n",
    "    result = (E*S)/B\n",
    "    return result"
   ]
  },
  {
   "cell_type": "code",
   "execution_count": 17,
   "metadata": {},
   "outputs": [
    {
     "data": {
      "text/plain": [
       "0.0"
      ]
     },
     "execution_count": 17,
     "metadata": {},
     "output_type": "execute_result"
    }
   ],
   "source": [
    "expected_blocks(round(slots),71e9,21600)"
   ]
  },
  {
   "cell_type": "code",
   "execution_count": null,
   "metadata": {},
   "outputs": [],
   "source": []
  },
  {
   "cell_type": "code",
   "execution_count": null,
   "metadata": {},
   "outputs": [],
   "source": []
  },
  {
   "cell_type": "code",
   "execution_count": null,
   "metadata": {},
   "outputs": [],
   "source": []
  },
  {
   "cell_type": "code",
   "execution_count": null,
   "metadata": {},
   "outputs": [],
   "source": []
  },
  {
   "cell_type": "code",
   "execution_count": null,
   "metadata": {},
   "outputs": [],
   "source": []
  }
 ],
 "metadata": {
  "kernelspec": {
   "display_name": "Python 3",
   "language": "python",
   "name": "python3"
  },
  "language_info": {
   "codemirror_mode": {
    "name": "ipython",
    "version": 3
   },
   "file_extension": ".py",
   "mimetype": "text/x-python",
   "name": "python",
   "nbconvert_exporter": "python",
   "pygments_lexer": "ipython3",
   "version": "3.7.4"
  }
 },
 "nbformat": 4,
 "nbformat_minor": 2
}
